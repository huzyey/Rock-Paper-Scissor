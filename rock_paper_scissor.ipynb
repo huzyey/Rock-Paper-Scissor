{
  "nbformat": 4,
  "nbformat_minor": 0,
  "metadata": {
    "colab": {
      "provenance": []
    },
    "kernelspec": {
      "name": "python3",
      "display_name": "Python 3"
    },
    "language_info": {
      "name": "python"
    }
  },
  "cells": [
    {
      "cell_type": "code",
      "execution_count": null,
      "metadata": {
        "colab": {
          "base_uri": "https://localhost:8080/"
        },
        "id": "lLZjOVdh75i3",
        "outputId": "23c1356e-4a12-431a-9604-efa35156cf67"
      },
      "outputs": [
        {
          "name": "stdout",
          "output_type": "stream",
          "text": [
            "Taş, kağıt veya makas? makas\n",
            "Senin seçimin: makas\n",
            "Bilgisayarın seçimi: taş\n",
            "Kaybettin!\n",
            "Şu ana kadar 0 kez kazandın, 1 kez kaybettin.\n",
            "Tekrar oynamak istiyor musun? (E/H): e\n",
            "Taş, kağıt veya makas? makas\n",
            "Senin seçimin: makas\n",
            "Bilgisayarın seçimi: taş\n",
            "Kaybettin!\n",
            "Şu ana kadar 0 kez kazandın, 2 kez kaybettin.\n",
            "Tekrar oynamak istiyor musun? (E/H): e\n",
            "Taş, kağıt veya makas? makas\n",
            "Senin seçimin: makas\n",
            "Bilgisayarın seçimi: kağıt\n",
            "Kazandın!\n",
            "Şu ana kadar 1 kez kazandın, 2 kez kaybettin.\n",
            "Tekrar oynamak istiyor musun? (E/H): e\n",
            "Taş, kağıt veya makas? taş\n",
            "Senin seçimin: taş\n",
            "Bilgisayarın seçimi: kağıt\n",
            "Kaybettin!\n",
            "Şu ana kadar 1 kez kazandın, 3 kez kaybettin.\n",
            "Tekrar oynamak istiyor musun? (E/H): e\n"
          ]
        }
      ],
      "source": [
        "import random\n",
        "\n",
        "def get_user_choice():\n",
        "    user_choice = input(\"Taş, kağıt veya makas? \").lower()\n",
        "    while user_choice not in [\"taş\", \"kağıt\", \"makas\"]:\n",
        "        user_choice = input(\"Hatalı giriş. Lütfen tekrar deneyin (Taş, kağıt veya makas?): \").lower()\n",
        "    return user_choice\n",
        "\n",
        "def get_computer_choice():\n",
        "    choices = [\"taş\", \"kağıt\", \"makas\"]\n",
        "    computer_choice = random.choice(choices)\n",
        "    return computer_choice\n",
        "\n",
        "def determine_winner(user_choice, computer_choice):\n",
        "    if user_choice == computer_choice:\n",
        "        return \"Berabere!\"\n",
        "    elif user_choice == \"taş\":\n",
        "        if computer_choice == \"makas\":\n",
        "            return \"Kazandın!\"\n",
        "        else:\n",
        "            return \"Kaybettin!\"\n",
        "    elif user_choice == \"kağıt\":\n",
        "        if computer_choice == \"taş\":\n",
        "            return \"Kazandın!\"\n",
        "        else:\n",
        "            return \"Kaybettin!\"\n",
        "    elif user_choice == \"makas\":\n",
        "        if computer_choice == \"kağıt\":\n",
        "            return \"Kazandın!\"\n",
        "        else:\n",
        "            return \"Kaybettin!\"\n",
        "\n",
        "def play_game():\n",
        "    user_wins = 0\n",
        "    computer_wins = 0\n",
        "    while True:\n",
        "        user_choice = get_user_choice()\n",
        "        computer_choice = get_computer_choice()\n",
        "        print(f\"Senin seçimin: {user_choice}\")\n",
        "        print(f\"Bilgisayarın seçimi: {computer_choice}\")\n",
        "        result = determine_winner(user_choice, computer_choice)\n",
        "        print(result)\n",
        "        if result == \"Kazandın!\":\n",
        "            user_wins += 1\n",
        "        elif result == \"Kaybettin!\":\n",
        "            computer_wins += 1\n",
        "        print(f\"Şu ana kadar {user_wins} kez kazandın, {computer_wins} kez kaybettin.\")\n",
        "        play_again = input(\"Tekrar oynamak istiyor musun? (E/H): \").lower()\n",
        "        if play_again != \"e\":\n",
        "            break\n",
        "\n",
        "if __name__ == \"__main__\":\n",
        "    play_game()"
      ]
    }
  ]
}